{
 "cells": [
  {
   "cell_type": "markdown",
   "id": "23376879",
   "metadata": {},
   "source": [
    "# Funnel Analysis Project"
   ]
  },
  {
   "cell_type": "markdown",
   "id": "2abb53de",
   "metadata": {},
   "source": [
    "#### Load Data"
   ]
  },
  {
   "cell_type": "code",
   "execution_count": 3,
   "id": "f98d4bc4",
   "metadata": {},
   "outputs": [],
   "source": [
    "import pandas as pd"
   ]
  },
  {
   "cell_type": "code",
   "execution_count": 4,
   "id": "37584fca",
   "metadata": {},
   "outputs": [],
   "source": [
    "# Load the dataset\n",
    "data = pd.read_csv(r\"C:\\Users\\dthan\\Downloads\\lightweight_ecommerce_sample.csv\")"
   ]
  },
  {
   "cell_type": "code",
   "execution_count": 5,
   "id": "70faa2d3",
   "metadata": {},
   "outputs": [
    {
     "data": {
      "text/html": [
       "<div>\n",
       "<style scoped>\n",
       "    .dataframe tbody tr th:only-of-type {\n",
       "        vertical-align: middle;\n",
       "    }\n",
       "\n",
       "    .dataframe tbody tr th {\n",
       "        vertical-align: top;\n",
       "    }\n",
       "\n",
       "    .dataframe thead th {\n",
       "        text-align: right;\n",
       "    }\n",
       "</style>\n",
       "<table border=\"1\" class=\"dataframe\">\n",
       "  <thead>\n",
       "    <tr style=\"text-align: right;\">\n",
       "      <th></th>\n",
       "      <th>user_id</th>\n",
       "      <th>event_time</th>\n",
       "      <th>event_type</th>\n",
       "      <th>product_id</th>\n",
       "      <th>category_code</th>\n",
       "      <th>brand</th>\n",
       "      <th>price</th>\n",
       "    </tr>\n",
       "  </thead>\n",
       "  <tbody>\n",
       "    <tr>\n",
       "      <th>0</th>\n",
       "      <td>1102</td>\n",
       "      <td>3/4/2023 22:42</td>\n",
       "      <td>view</td>\n",
       "      <td>5073</td>\n",
       "      <td>electronics.smartphone</td>\n",
       "      <td>Samsung</td>\n",
       "      <td>870.90</td>\n",
       "    </tr>\n",
       "    <tr>\n",
       "      <th>1</th>\n",
       "      <td>1435</td>\n",
       "      <td>1/1/2023 22:32</td>\n",
       "      <td>view</td>\n",
       "      <td>5008</td>\n",
       "      <td>electronics.smartphone</td>\n",
       "      <td>Nike</td>\n",
       "      <td>1484.46</td>\n",
       "    </tr>\n",
       "    <tr>\n",
       "      <th>2</th>\n",
       "      <td>1860</td>\n",
       "      <td>2/27/2023 23:02</td>\n",
       "      <td>view</td>\n",
       "      <td>5084</td>\n",
       "      <td>electronics.audio</td>\n",
       "      <td>Samsung</td>\n",
       "      <td>1039.52</td>\n",
       "    </tr>\n",
       "    <tr>\n",
       "      <th>3</th>\n",
       "      <td>1270</td>\n",
       "      <td>2/13/2023 2:42</td>\n",
       "      <td>view</td>\n",
       "      <td>5076</td>\n",
       "      <td>electronics.smartphone</td>\n",
       "      <td>Nike</td>\n",
       "      <td>1112.26</td>\n",
       "    </tr>\n",
       "    <tr>\n",
       "      <th>4</th>\n",
       "      <td>1106</td>\n",
       "      <td>2/12/2023 7:23</td>\n",
       "      <td>view</td>\n",
       "      <td>5009</td>\n",
       "      <td>apparel.shoes</td>\n",
       "      <td>IKEA</td>\n",
       "      <td>57.82</td>\n",
       "    </tr>\n",
       "  </tbody>\n",
       "</table>\n",
       "</div>"
      ],
      "text/plain": [
       "   user_id       event_time event_type  product_id           category_code  \\\n",
       "0     1102   3/4/2023 22:42       view        5073  electronics.smartphone   \n",
       "1     1435   1/1/2023 22:32       view        5008  electronics.smartphone   \n",
       "2     1860  2/27/2023 23:02       view        5084       electronics.audio   \n",
       "3     1270   2/13/2023 2:42       view        5076  electronics.smartphone   \n",
       "4     1106   2/12/2023 7:23       view        5009           apparel.shoes   \n",
       "\n",
       "     brand    price  \n",
       "0  Samsung   870.90  \n",
       "1     Nike  1484.46  \n",
       "2  Samsung  1039.52  \n",
       "3     Nike  1112.26  \n",
       "4     IKEA    57.82  "
      ]
     },
     "execution_count": 5,
     "metadata": {},
     "output_type": "execute_result"
    }
   ],
   "source": [
    "df = pd.DataFrame(data)\n",
    "\n",
    "# View first few rows\n",
    "df.head()"
   ]
  },
  {
   "cell_type": "code",
   "execution_count": 6,
   "id": "f7a67108",
   "metadata": {},
   "outputs": [
    {
     "name": "stdout",
     "output_type": "stream",
     "text": [
      "<class 'pandas.core.frame.DataFrame'>\n",
      "RangeIndex: 10000 entries, 0 to 9999\n",
      "Data columns (total 7 columns):\n",
      " #   Column         Non-Null Count  Dtype  \n",
      "---  ------         --------------  -----  \n",
      " 0   user_id        10000 non-null  int64  \n",
      " 1   event_time     10000 non-null  object \n",
      " 2   event_type     10000 non-null  object \n",
      " 3   product_id     10000 non-null  int64  \n",
      " 4   category_code  10000 non-null  object \n",
      " 5   brand          10000 non-null  object \n",
      " 6   price          10000 non-null  float64\n",
      "dtypes: float64(1), int64(2), object(4)\n",
      "memory usage: 547.0+ KB\n"
     ]
    }
   ],
   "source": [
    "df.info()"
   ]
  },
  {
   "cell_type": "markdown",
   "id": "44bf896a",
   "metadata": {},
   "source": [
    "*No null/missing values in the data*"
   ]
  },
  {
   "cell_type": "markdown",
   "id": "c580a59f",
   "metadata": {},
   "source": [
    "#### Convert Date Columns"
   ]
  },
  {
   "cell_type": "markdown",
   "id": "4567106e",
   "metadata": {},
   "source": [
    "*event_time* is text by default, we convert it to a datetime to do time-based calculations like DAU or retention."
   ]
  },
  {
   "cell_type": "code",
   "execution_count": 7,
   "id": "f52e1aac",
   "metadata": {},
   "outputs": [],
   "source": [
    "# Convert string to datetime format\n",
    "df[\"event_time\"] = pd.to_datetime(df['event_time'])\n",
    "\n",
    "# Extract useful parts\n",
    "df[\"date\"] = df[\"event_time\"].dt.date\n",
    "df[\"week\"] = df[\"event_time\"].dt.isocalendar().week"
   ]
  },
  {
   "cell_type": "code",
   "execution_count": 8,
   "id": "c22d2430",
   "metadata": {},
   "outputs": [
    {
     "data": {
      "text/html": [
       "<div>\n",
       "<style scoped>\n",
       "    .dataframe tbody tr th:only-of-type {\n",
       "        vertical-align: middle;\n",
       "    }\n",
       "\n",
       "    .dataframe tbody tr th {\n",
       "        vertical-align: top;\n",
       "    }\n",
       "\n",
       "    .dataframe thead th {\n",
       "        text-align: right;\n",
       "    }\n",
       "</style>\n",
       "<table border=\"1\" class=\"dataframe\">\n",
       "  <thead>\n",
       "    <tr style=\"text-align: right;\">\n",
       "      <th></th>\n",
       "      <th>user_id</th>\n",
       "      <th>event_time</th>\n",
       "      <th>event_type</th>\n",
       "      <th>product_id</th>\n",
       "      <th>category_code</th>\n",
       "      <th>brand</th>\n",
       "      <th>price</th>\n",
       "      <th>date</th>\n",
       "      <th>week</th>\n",
       "    </tr>\n",
       "  </thead>\n",
       "  <tbody>\n",
       "    <tr>\n",
       "      <th>0</th>\n",
       "      <td>1102</td>\n",
       "      <td>2023-03-04 22:42:00</td>\n",
       "      <td>view</td>\n",
       "      <td>5073</td>\n",
       "      <td>electronics.smartphone</td>\n",
       "      <td>Samsung</td>\n",
       "      <td>870.90</td>\n",
       "      <td>2023-03-04</td>\n",
       "      <td>9</td>\n",
       "    </tr>\n",
       "    <tr>\n",
       "      <th>1</th>\n",
       "      <td>1435</td>\n",
       "      <td>2023-01-01 22:32:00</td>\n",
       "      <td>view</td>\n",
       "      <td>5008</td>\n",
       "      <td>electronics.smartphone</td>\n",
       "      <td>Nike</td>\n",
       "      <td>1484.46</td>\n",
       "      <td>2023-01-01</td>\n",
       "      <td>52</td>\n",
       "    </tr>\n",
       "    <tr>\n",
       "      <th>2</th>\n",
       "      <td>1860</td>\n",
       "      <td>2023-02-27 23:02:00</td>\n",
       "      <td>view</td>\n",
       "      <td>5084</td>\n",
       "      <td>electronics.audio</td>\n",
       "      <td>Samsung</td>\n",
       "      <td>1039.52</td>\n",
       "      <td>2023-02-27</td>\n",
       "      <td>9</td>\n",
       "    </tr>\n",
       "    <tr>\n",
       "      <th>3</th>\n",
       "      <td>1270</td>\n",
       "      <td>2023-02-13 02:42:00</td>\n",
       "      <td>view</td>\n",
       "      <td>5076</td>\n",
       "      <td>electronics.smartphone</td>\n",
       "      <td>Nike</td>\n",
       "      <td>1112.26</td>\n",
       "      <td>2023-02-13</td>\n",
       "      <td>7</td>\n",
       "    </tr>\n",
       "    <tr>\n",
       "      <th>4</th>\n",
       "      <td>1106</td>\n",
       "      <td>2023-02-12 07:23:00</td>\n",
       "      <td>view</td>\n",
       "      <td>5009</td>\n",
       "      <td>apparel.shoes</td>\n",
       "      <td>IKEA</td>\n",
       "      <td>57.82</td>\n",
       "      <td>2023-02-12</td>\n",
       "      <td>6</td>\n",
       "    </tr>\n",
       "  </tbody>\n",
       "</table>\n",
       "</div>"
      ],
      "text/plain": [
       "   user_id          event_time event_type  product_id           category_code  \\\n",
       "0     1102 2023-03-04 22:42:00       view        5073  electronics.smartphone   \n",
       "1     1435 2023-01-01 22:32:00       view        5008  electronics.smartphone   \n",
       "2     1860 2023-02-27 23:02:00       view        5084       electronics.audio   \n",
       "3     1270 2023-02-13 02:42:00       view        5076  electronics.smartphone   \n",
       "4     1106 2023-02-12 07:23:00       view        5009           apparel.shoes   \n",
       "\n",
       "     brand    price        date  week  \n",
       "0  Samsung   870.90  2023-03-04     9  \n",
       "1     Nike  1484.46  2023-01-01    52  \n",
       "2  Samsung  1039.52  2023-02-27     9  \n",
       "3     Nike  1112.26  2023-02-13     7  \n",
       "4     IKEA    57.82  2023-02-12     6  "
      ]
     },
     "execution_count": 8,
     "metadata": {},
     "output_type": "execute_result"
    }
   ],
   "source": [
    "df.head()"
   ]
  },
  {
   "cell_type": "markdown",
   "id": "6683ba60",
   "metadata": {},
   "source": [
    "#### Funnel Counts\n",
    "\n",
    "How many views, carts, and purchases are in the dataset."
   ]
  },
  {
   "cell_type": "code",
   "execution_count": 9,
   "id": "c99536d2",
   "metadata": {},
   "outputs": [
    {
     "data": {
      "text/plain": [
       "event_type\n",
       "view        7004\n",
       "cart        2029\n",
       "purchase     967\n",
       "Name: count, dtype: int64"
      ]
     },
     "execution_count": 9,
     "metadata": {},
     "output_type": "execute_result"
    }
   ],
   "source": [
    "# Count how many events of each type\n",
    "df[\"event_type\"].value_counts()"
   ]
  },
  {
   "cell_type": "markdown",
   "id": "40477419",
   "metadata": {},
   "source": [
    "#### Funnel Conversion Rates"
   ]
  },
  {
   "cell_type": "markdown",
   "id": "32f0a128",
   "metadata": {},
   "source": [
    "view_to_cart, cart_to_purchase, view_to_purchase are *funnel conversion metrics*\n",
    "\n",
    "- view_to_cart: Tells you how effective the product detail or search page is in encouraging users to go further.\n",
    "\n",
    "- cart_to_puchase: This is your checkout efficiency metric. If this is low, you may have:\n",
    "    - Long checkout forms\n",
    "    - Hidden costs (like shipping)\n",
    "    - Payment issues\n",
    "\n",
    "- view_to_purchase: Overall funnel efficiency"
   ]
  },
  {
   "cell_type": "code",
   "execution_count": 10,
   "id": "4e8a3000",
   "metadata": {},
   "outputs": [
    {
     "data": {
      "text/plain": [
       "(0.8575727181544633, 0.7169590643274854, 0.6148445336008024)"
      ]
     },
     "execution_count": 10,
     "metadata": {},
     "output_type": "execute_result"
    }
   ],
   "source": [
    "#unique user at each stage\n",
    "views = df[df[\"event_type\"] == \"view\"][\"user_id\"].nunique()\n",
    "carts = df[df[\"event_type\"] == \"cart\"][\"user_id\"].nunique()\n",
    "purchases = df[df[\"event_type\"] == \"purchase\"][\"user_id\"].nunique()\n",
    "\n",
    "#conversion calculations\n",
    "view_to_cart = carts/views\n",
    "cart_to_purchase = purchases/carts\n",
    "view_to_purchase = purchases/views\n",
    "\n",
    "view_to_cart, cart_to_purchase, view_to_purchase"
   ]
  },
  {
   "cell_type": "markdown",
   "id": "80604c9b",
   "metadata": {},
   "source": [
    "#### DAU (Daily Active Users)\n",
    "\n",
    "Group data by date and count how many unique users were active on each day."
   ]
  },
  {
   "cell_type": "code",
   "execution_count": 11,
   "id": "ff7077d2",
   "metadata": {},
   "outputs": [],
   "source": [
    "dau = df.groupby('date')['user_id'].nunique()"
   ]
  },
  {
   "cell_type": "code",
   "execution_count": 12,
   "id": "1cc45998",
   "metadata": {},
   "outputs": [
    {
     "data": {
      "image/png": "[encoded data removed]",
      "text/plain": [
       "<Figure size 1000x400 with 1 Axes>"
      ]
     },
     "metadata": {},
     "output_type": "display_data"
    }
   ],
   "source": [
    "# plot\n",
    "\n",
    "import matplotlib.pyplot as plt\n",
    "dau.plot(title = 'Daily Active Users', figsize = (10,4))\n",
    "plt.ylabel('Unique Users')\n",
    "plt.show()"
   ]
  },
  {
   "cell_type": "markdown",
   "id": "bced9f5d",
   "metadata": {},
   "source": [
    "#### User Retention (basic)\n",
    "\n",
    "Tracking the users returned on Day 1 and Day 7 after their first interaction."
   ]
  },
  {
   "cell_type": "code",
   "execution_count": null,
   "id": "e41f2696",
   "metadata": {},
   "outputs": [
    {
     "data": {
      "text/plain": [
       "(array([1458, 1099, 1564, 1929, 1502, 1014, 1972, 1189, 1696, 1895, 1851,\n",
       "        1674, 1089, 1098, 1150, 1507, 1708, 1097, 1307, 1003, 1844, 1318,\n",
       "        1992, 1982, 1430, 1629, 1768, 1287, 1026, 1147, 1136, 1804, 1016,\n",
       "        1284, 1083, 1604, 1105, 1316, 1334, 1256, 1155, 1205, 1262, 1885,\n",
       "        1072, 1726, 1310, 1285, 1549, 1066, 1936, 1652, 1464, 1182, 1876,\n",
       "        1073, 1728, 1570, 1877, 1276, 1661, 1288, 1729, 1573, 1439, 1905,\n",
       "        1527, 1217, 1303, 1791, 1232, 1300, 1882, 1810, 1612, 1057, 1198,\n",
       "        1153, 1212, 1543, 1330, 1018, 1418, 1943, 1648, 1865, 1120, 1713,\n",
       "        1177, 1350, 1457, 1741, 1927, 1563, 1789, 1829, 1510, 1012, 1363,\n",
       "        1383, 1246, 1245, 1480, 1624, 1236, 1816, 1493, 1005, 1299, 1162,\n",
       "        1568, 1598, 1751, 1477, 1803, 1909, 1839, 1731, 1706, 1172, 1521,\n",
       "        1920, 1221, 1223, 1497, 1581, 1247, 1886, 1129, 1367, 1013, 1734,\n",
       "        1884, 1407, 1761, 1755], dtype=int64),\n",
       " array([1555, 1251, 1288, 1952, 1267, 1951, 1854, 1763, 1815, 1016, 1301,\n",
       "        1353, 1619, 1633, 1144, 1064, 1204, 1238, 1401, 1195, 1406, 1113,\n",
       "        1677, 1914, 1215, 1376, 1398, 1343, 1492, 1534, 1762, 1020, 1382,\n",
       "        1839, 1850, 1303, 1363, 1786, 1647, 1236, 1100, 1821, 1963, 1212,\n",
       "        1435, 1199, 1926, 1895, 1313, 1899, 1136, 1572, 1160, 1891, 1886,\n",
       "        1485, 1130, 1995, 1845, 1820, 1549, 1403, 1562, 1543, 1658, 1697,\n",
       "        1302, 1740, 1411, 1517, 1330, 1426, 1254, 1717, 1660, 1868, 1752,\n",
       "        1488, 1527, 1588, 1822, 1802, 1880, 1338, 1002, 1615, 1537, 1180,\n",
       "        1035, 1105, 1911, 1765, 1337, 1470, 1366, 1161, 1069, 1611, 1422,\n",
       "        1713, 1068, 1447, 1835, 1383, 1297, 1335, 1193, 1041, 1937, 1929,\n",
       "        1634, 1329, 1367, 1248, 1322, 1969, 1587, 1431, 1497, 1502, 1266,\n",
       "        1888, 1865, 1082, 1567, 1901, 1151, 1253, 1050], dtype=int64))"
      ]
     },
     "execution_count": 24,
     "metadata": {},
     "output_type": "execute_result"
    }
   ],
   "source": [
    "# Find each user's first activity date\n",
    "first_seen = df.groupby('user_id')['event_time'].min().reset_index()\n",
    "first_seen.columns = ['user_id', 'first_seen']\n",
    "df = df.merge(first_seen, on='user_id')\n",
    "\n",
    "# Calculate how many days since their first event\n",
    "df['days_since_first'] = (df['event_time'] - df['first_seen']).dt.days\n",
    "\n",
    "# Count returning users\n",
    "retention_day_1 = df[df['days_since_first'] == 1]['user_id'].unique()\n",
    "retention_day_7 = df[df['days_since_first'] == 7]['user_id'].unique()\n",
    "retention_day_1, retention_day_7"
   ]
  },
  {
   "cell_type": "markdown",
   "id": "544395d0",
   "metadata": {},
   "source": [
    "#### Export for Excel/Tableau"
   ]
  },
  {
   "cell_type": "code",
   "execution_count": 27,
   "id": "6b94f0d4",
   "metadata": {},
   "outputs": [],
   "source": [
    "# Save cleaned data for dashboarding\n",
    "df.to_csv(r\"C:\\Users\\dthan\\Downloads\\cleaned_ecommerce_data.csv\", index=False)"
   ]
  }
 ],
 "metadata": {
  "kernelspec": {
   "display_name": "Python 3",
   "language": "python",
   "name": "python3"
  },
  "language_info": {
   "codemirror_mode": {
    "name": "ipython",
    "version": 3
   },
   "file_extension": ".py",
   "mimetype": "text/x-python",
   "name": "python",
   "nbconvert_exporter": "python",
   "pygments_lexer": "ipython3",
   "version": "3.10.18"
  }
 },
 "nbformat": 4,
 "nbformat_minor": 5
}
